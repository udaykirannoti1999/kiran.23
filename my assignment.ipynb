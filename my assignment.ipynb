{
 "cells": [
  {
   "cell_type": "code",
   "execution_count": 17,
   "id": "554cb9c9-5adb-463a-a3c1-e71fb784440c",
   "metadata": {},
   "outputs": [],
   "source": [
    "def le(s):\n",
    "  c=0\n",
    "  for i in s:\n",
    "     c=c+1\n",
    "  return c"
   ]
  },
  {
   "cell_type": "code",
   "execution_count": 18,
   "id": "0d4a757a-c3c6-416f-929d-3b3599297934",
   "metadata": {},
   "outputs": [
    {
     "data": {
      "text/plain": [
       "5"
      ]
     },
     "execution_count": 18,
     "metadata": {},
     "output_type": "execute_result"
    }
   ],
   "source": [
    "le(\"kiran\") "
   ]
  },
  {
   "cell_type": "code",
   "execution_count": 51,
   "id": "a35ccc9d-b71e-4739-9b36-1917b2d4ca39",
   "metadata": {
    "tags": []
   },
   "outputs": [
    {
     "ename": "IndentationError",
     "evalue": "expected an indented block after function definition on line 1 (2653075138.py, line 2)",
     "output_type": "error",
     "traceback": [
      "\u001b[0;36m  Cell \u001b[0;32mIn [51], line 2\u001b[0;36m\u001b[0m\n\u001b[0;31m    k=1\u001b[0m\n\u001b[0m    ^\u001b[0m\n\u001b[0;31mIndentationError\u001b[0m\u001b[0;31m:\u001b[0m expected an indented block after function definition on line 1\n"
     ]
    }
   ],
   "source": [
    "def product(l):\n",
    "k=1\n",
    "  for i in l:\n",
    "    if type(i)==int:\n",
    "         k=k*i\n",
    "return k"
   ]
  },
  {
   "cell_type": "code",
   "execution_count": 47,
   "id": "3c33b8bc-3993-47e9-b5b3-541cf1d457ab",
   "metadata": {},
   "outputs": [
    {
     "data": {
      "text/plain": [
       "120"
      ]
     },
     "execution_count": 47,
     "metadata": {},
     "output_type": "execute_result"
    }
   ],
   "source": [
    "l1=[3.5,6.56,4,5,6,\"kiran\"]\n",
    "product(l1)"
   ]
  },
  {
   "cell_type": "code",
   "execution_count": 82,
   "id": "c7cce348-e6e8-4475-87de-cc4304c2474a",
   "metadata": {},
   "outputs": [
    {
     "name": "stdout",
     "output_type": "stream",
     "text": [
      "0 3\n",
      "1 5\n",
      "2 7\n",
      "3 8\n",
      "4 10\n"
     ]
    }
   ],
   "source": [
    "l1=[3,5,7,8,10]\n",
    "for i in range (len(l1)):\n",
    "    print(i,l1[i])\n"
   ]
  },
  {
   "cell_type": "code",
   "execution_count": 91,
   "id": "2107fb9e-08e1-4363-9a1f-07d4c39495a7",
   "metadata": {},
   "outputs": [
    {
     "name": "stdout",
     "output_type": "stream",
     "text": [
      "Your Computer Name is:eafcda916491\n",
      "Your Computer IP Address is:172.18.0.9\n"
     ]
    }
   ],
   "source": [
    "import socket \n",
    "hostname=socket.gethostname()   \n",
    "IPAddr=socket.gethostbyname(hostname)   \n",
    "print(\"Your Computer Name is:\"+hostname)   \n",
    "print(\"Your Computer IP Address is:\"+IPAddr)"
   ]
  }
 ],
 "metadata": {
  "kernelspec": {
   "display_name": "Python 3 (ipykernel)",
   "language": "python",
   "name": "python3"
  },
  "language_info": {
   "codemirror_mode": {
    "name": "ipython",
    "version": 3
   },
   "file_extension": ".py",
   "mimetype": "text/x-python",
   "name": "python",
   "nbconvert_exporter": "python",
   "pygments_lexer": "ipython3",
   "version": "3.10.6"
  }
 },
 "nbformat": 4,
 "nbformat_minor": 5
}
