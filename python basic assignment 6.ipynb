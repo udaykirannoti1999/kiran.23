{
 "cells": [
  {
   "cell_type": "code",
   "execution_count": 1,
   "id": "ee0ba137-f885-4ec3-8394-585cda5cb207",
   "metadata": {},
   "outputs": [
    {
     "name": "stdout",
     "output_type": "stream",
     "text": [
      "my name is\n"
     ]
    }
   ],
   "source": [
    "#1)What are escape characters, and how do you use them?\n",
    "#In Python strings, the backslash \"\" is a special character, also called the \"escape\" character. It is used in representing certain whitespace characters: \"\\t\" is a tab, \"\\n\" is a newline, and \"\\r\" is a carriage return\n",
    "\n",
    "print(\"my \\\n",
    "name \\\n",
    "is\")"
   ]
  },
  {
   "cell_type": "raw",
   "id": "6c909742-7193-42d9-b685-3e47b4bbb570",
   "metadata": {},
   "source": [
    "2)What do the escape characters n and t stand for?\n",
    "\"\\t\" is a tab, \"\\n\" is a newline"
   ]
  },
  {
   "cell_type": "code",
   "execution_count": 2,
   "id": "d872b905-1184-4a63-972a-dc999c53796c",
   "metadata": {},
   "outputs": [
    {
     "name": "stdout",
     "output_type": "stream",
     "text": [
      "its a back slash \\ in a line\n"
     ]
    }
   ],
   "source": [
    "#3)What is the way to include backslash characters in a string?\n",
    "print('its a back slash \\\\ in a line')"
   ]
  },
  {
   "cell_type": "code",
   "execution_count": 3,
   "id": "6edfd43c-cfac-4ee6-96c5-e49dc0d05aa8",
   "metadata": {},
   "outputs": [
    {
     "name": "stdout",
     "output_type": "stream",
     "text": [
      "HowI's Moving Castle\n"
     ]
    }
   ],
   "source": [
    "#4)The string \"Howl's Moving Castle\" is a correct value. Why isn't the single quote character in the word Howl's not escaped a problem?\n",
    "#The single quote in Howl's is fine because you've used double quotes to mark the beginning and end of the string. like wise we can use double quotes in with single quotes\n",
    "\n",
    "print(\"HowI's Moving Castle\")"
   ]
  },
  {
   "cell_type": "code",
   "execution_count": 4,
   "id": "b65b617a-4d80-4e67-aec9-9160fe2604bd",
   "metadata": {},
   "outputs": [
    {
     "name": "stdout",
     "output_type": "stream",
     "text": [
      "Its a \"Nice\" Day\n"
     ]
    }
   ],
   "source": [
    "print('Its a \"Nice\" Day')"
   ]
  },
  {
   "cell_type": "code",
   "execution_count": 5,
   "id": "60b42f89-0b82-4699-86a0-4529fdb2be1f",
   "metadata": {},
   "outputs": [
    {
     "name": "stdout",
     "output_type": "stream",
     "text": [
      "printing something in new line\n",
      "newline\n"
     ]
    }
   ],
   "source": [
    "#5)How do you write a string of newlines if you don't want to use the n character?\n",
    "print(\"printing something in new line\",end = '\\n')\n",
    "print(\"newline\")"
   ]
  },
  {
   "cell_type": "code",
   "execution_count": null,
   "id": "8920685b-87af-4a8f-ac74-415adac2aa94",
   "metadata": {},
   "outputs": [],
   "source": [
    "#6)What are the values of the given expressions?\n",
    "#Hello, world!'[1] 'Hello, world!'[0:5] 'Hello, world!'[:5] 'Hello, world!'[3:]\n",
    "\n",
    "#'Hello, world!'[1]"
   ]
  },
  {
   "cell_type": "code",
   "execution_count": 7,
   "id": "745f42fa-9835-4e69-be7c-e4e0a5f8579f",
   "metadata": {},
   "outputs": [
    {
     "data": {
      "text/plain": [
       "'e'"
      ]
     },
     "execution_count": 7,
     "metadata": {},
     "output_type": "execute_result"
    }
   ],
   "source": [
    "'Hello, world!'[1]\n"
   ]
  },
  {
   "cell_type": "code",
   "execution_count": 8,
   "id": "9cd1f945-d682-42ef-8387-d284e957df2b",
   "metadata": {},
   "outputs": [
    {
     "data": {
      "text/plain": [
       "'Hello'"
      ]
     },
     "execution_count": 8,
     "metadata": {},
     "output_type": "execute_result"
    }
   ],
   "source": [
    "'Hello, world!'[0:5]"
   ]
  },
  {
   "cell_type": "code",
   "execution_count": 9,
   "id": "d2b827ff-a37e-4f86-bcb5-0fb06fe93fcc",
   "metadata": {},
   "outputs": [
    {
     "data": {
      "text/plain": [
       "'Hello'"
      ]
     },
     "execution_count": 9,
     "metadata": {},
     "output_type": "execute_result"
    }
   ],
   "source": [
    "'Hello, world!'[:5]"
   ]
  },
  {
   "cell_type": "code",
   "execution_count": 10,
   "id": "2a999e5d-af93-4074-9fba-58db79fe815b",
   "metadata": {},
   "outputs": [
    {
     "data": {
      "text/plain": [
       "'lo, world!'"
      ]
     },
     "execution_count": 10,
     "metadata": {},
     "output_type": "execute_result"
    }
   ],
   "source": [
    "'Hello, world!'[3:]"
   ]
  },
  {
   "cell_type": "code",
   "execution_count": null,
   "id": "d5c7267c-0b85-4a40-a6f6-2f1cb94f3889",
   "metadata": {},
   "outputs": [],
   "source": [
    "7)#What are the values of the following expressions?\n",
    "#Hello'.upper() 'Hello'.upper().isupper() 'Hello'.upper().lower()"
   ]
  },
  {
   "cell_type": "code",
   "execution_count": 11,
   "id": "7fc29e89-d954-4448-b63b-c4d53e8f3379",
   "metadata": {},
   "outputs": [
    {
     "data": {
      "text/plain": [
       "'HELLO'"
      ]
     },
     "execution_count": 11,
     "metadata": {},
     "output_type": "execute_result"
    }
   ],
   "source": [
    "'Hello'.upper()"
   ]
  },
  {
   "cell_type": "code",
   "execution_count": 12,
   "id": "be459d0e-4f6b-4d2f-a332-adbba4cb7244",
   "metadata": {},
   "outputs": [
    {
     "data": {
      "text/plain": [
       "'hello'"
      ]
     },
     "execution_count": 12,
     "metadata": {},
     "output_type": "execute_result"
    }
   ],
   "source": [
    "'Hello'.lower()"
   ]
  },
  {
   "cell_type": "code",
   "execution_count": 13,
   "id": "f5fdc91d-14c6-4a2f-b900-1d04adca9e51",
   "metadata": {},
   "outputs": [
    {
     "data": {
      "text/plain": [
       "False"
      ]
     },
     "execution_count": 13,
     "metadata": {},
     "output_type": "execute_result"
    }
   ],
   "source": [
    "'Hello'.islower()"
   ]
  },
  {
   "cell_type": "code",
   "execution_count": 14,
   "id": "8d80ecb4-fc02-4636-ae17-f0c4c31e49ef",
   "metadata": {},
   "outputs": [
    {
     "data": {
      "text/plain": [
       "False"
      ]
     },
     "execution_count": 14,
     "metadata": {},
     "output_type": "execute_result"
    }
   ],
   "source": [
    "'Hello'.isupper()"
   ]
  },
  {
   "cell_type": "code",
   "execution_count": 15,
   "id": "29d2aef7-e972-4169-add4-fbd6e01ef014",
   "metadata": {},
   "outputs": [
    {
     "data": {
      "text/plain": [
       "['Remember,', 'remember,', 'the', 'fifth', 'of', 'July.']"
      ]
     },
     "execution_count": 15,
     "metadata": {},
     "output_type": "execute_result"
    }
   ],
   "source": [
    "#8)What are the values of the following expressions?\n",
    "#'Remember, remember, the fifth of July.'.split() '-'.join('There can only one.'.split())\n",
    "'Remember, remember, the fifth of July.'.split()"
   ]
  },
  {
   "cell_type": "code",
   "execution_count": 20,
   "id": "f1e6b8f2-e096-49f4-99f0-c3a3984703d2",
   "metadata": {},
   "outputs": [
    {
     "data": {
      "text/plain": [
       "'Remember,-remember,-the-fifth-of-July.'"
      ]
     },
     "execution_count": 20,
     "metadata": {},
     "output_type": "execute_result"
    }
   ],
   "source": [
    "'-'.join('Remember, remember, the fifth of July.'.split())"
   ]
  },
  {
   "cell_type": "code",
   "execution_count": 21,
   "id": "487e28af-4556-4745-8e4e-1a6600c12708",
   "metadata": {},
   "outputs": [
    {
     "data": {
      "text/plain": [
       "'Shiva-----'"
      ]
     },
     "execution_count": 21,
     "metadata": {},
     "output_type": "execute_result"
    }
   ],
   "source": [
    "#9)What are the methods for right-justifying, left-justifying, and centering a string\n",
    "str =\"Shiva\"\n",
    "str.ljust(10,\"-\")\n",
    "#left justifying"
   ]
  },
  {
   "cell_type": "code",
   "execution_count": 25,
   "id": "85b23ff3-49ba-42ef-901d-6cad27ffc04d",
   "metadata": {},
   "outputs": [
    {
     "data": {
      "text/plain": [
       "'+++++Shiva'"
      ]
     },
     "execution_count": 25,
     "metadata": {},
     "output_type": "execute_result"
    }
   ],
   "source": [
    "str =\"Shiva\"\n",
    "str.rjust(10,\"+\")\n",
    "#right justifying"
   ]
  },
  {
   "cell_type": "code",
   "execution_count": null,
   "id": "515419c0-78f4-46e0-b59a-4f2cf702766b",
   "metadata": {},
   "outputs": [],
   "source": [
    "#10)What is the best way to remove whitespace characters from the start or end?\n",
    "str =\"  gfgfgfgfgfgfgf yuyuyuuyuy  \""
   ]
  }
 ],
 "metadata": {
  "kernelspec": {
   "display_name": "Python 3 (ipykernel)",
   "language": "python",
   "name": "python3"
  },
  "language_info": {
   "codemirror_mode": {
    "name": "ipython",
    "version": 3
   },
   "file_extension": ".py",
   "mimetype": "text/x-python",
   "name": "python",
   "nbconvert_exporter": "python",
   "pygments_lexer": "ipython3",
   "version": "3.10.6"
  }
 },
 "nbformat": 4,
 "nbformat_minor": 5
}
