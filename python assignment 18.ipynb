{
 "cells": [
  {
   "cell_type": "markdown",
   "id": "6914740f-b449-4477-be3e-aad7a9f246cd",
   "metadata": {},
   "source": [
    "Q.Create a zoo.py file first. Define the hours() function, which prints the string 'Open 9-5 daily'."
   ]
  },
  {
   "cell_type": "code",
   "execution_count": null,
   "id": "44f55f19-3ebc-4e2b-8aa6-50a2677766b6",
   "metadata": {},
   "outputs": [],
   "source": [
    "from google.colab import files\n",
    "uploaded = files.upload()"
   ]
  },
  {
   "cell_type": "code",
   "execution_count": null,
   "id": "fb46b586-59c4-4b56-8757-593446feec0f",
   "metadata": {},
   "outputs": [],
   "source": [
    "import zoo\n",
    "from importlib import reload\n",
    "reload(zoo)\n",
    "\n",
    "zoo.hours()"
   ]
  },
  {
   "cell_type": "markdown",
   "id": "f8d5fb89-d1e9-44d6-9a23-4e13741be18b",
   "metadata": {},
   "source": [
    "Q. In the interactive interpreter, import the zoo module as menagerie and call its hours() function."
   ]
  },
  {
   "cell_type": "code",
   "execution_count": null,
   "id": "e4d033bc-77c2-4bae-affa-3ed3be7647c2",
   "metadata": {},
   "outputs": [],
   "source": [
    "import zoo as menagerie\n",
    "menagerie.hours()\n",
    "     "
   ]
  },
  {
   "cell_type": "code",
   "execution_count": null,
   "id": "d4a3a45d-0055-4a93-91a6-7010fcae33a8",
   "metadata": {},
   "outputs": [],
   "source": [
    "3)##Using the interpreter, explicitly import and call the hours() function from zoo.\n",
    "\n",
    "\n",
    "from zoo import hours\n",
    "hours()\n",
    "     "
   ]
  },
  {
   "cell_type": "markdown",
   "id": "01e87c38-e97c-4b42-9aea-5afbb7342fe7",
   "metadata": {},
   "source": [
    "4)Create a plain dictionary with the key-value pairs 'a': 1, 'b': 2, 'c': 3, and print it out."
   ]
  },
  {
   "cell_type": "code",
   "execution_count": 4,
   "id": "a47fff08-b99c-4bd9-93a0-c2b62941b23b",
   "metadata": {},
   "outputs": [
    {
     "data": {
      "text/plain": [
       "{'a': 1, 'b': 2, 'c': 3}"
      ]
     },
     "execution_count": 4,
     "metadata": {},
     "output_type": "execute_result"
    }
   ],
   "source": [
    "plain = {'a': 1, 'b': 2, 'c': 3}\n",
    "plain\n",
    "     "
   ]
  },
  {
   "cell_type": "markdown",
   "id": "8d61d066-62f8-4609-8d80-48eae885f053",
   "metadata": {},
   "source": [
    "5)Make an OrderedDict called fancy from the same pairs listed in 5 and print it. Did it print in the same order as plain?"
   ]
  },
  {
   "cell_type": "code",
   "execution_count": 6,
   "id": "9cdbf321-fdc6-4099-ba15-b164868962cb",
   "metadata": {},
   "outputs": [
    {
     "data": {
      "text/plain": [
       "OrderedDict([('a', 2), ('b', 1), ('c', 3)])"
      ]
     },
     "execution_count": 6,
     "metadata": {},
     "output_type": "execute_result"
    }
   ],
   "source": [
    "from collections import OrderedDict\n",
    "fancy = OrderedDict([('a', 2), ('b', 1), ('c', 3)])\n",
    "fancy\n",
    "     "
   ]
  },
  {
   "cell_type": "markdown",
   "id": "53466bbd-f646-4878-88f2-d5896ea03c8c",
   "metadata": {},
   "source": [
    "6) Make a defaultdict called dict_of_lists and pass it the argument list. Make the list dict_of_lists['a'] and append the value 'something for a' to it in one assignment. Print dict_of_lists['a']"
   ]
  },
  {
   "cell_type": "code",
   "execution_count": null,
   "id": "d00b7691-43da-420e-8122-3511e01ff9f3",
   "metadata": {},
   "outputs": [],
   "source": []
  }
 ],
 "metadata": {
  "kernelspec": {
   "display_name": "Python 3 (ipykernel)",
   "language": "python",
   "name": "python3"
  },
  "language_info": {
   "codemirror_mode": {
    "name": "ipython",
    "version": 3
   },
   "file_extension": ".py",
   "mimetype": "text/x-python",
   "name": "python",
   "nbconvert_exporter": "python",
   "pygments_lexer": "ipython3",
   "version": "3.10.6"
  }
 },
 "nbformat": 4,
 "nbformat_minor": 5
}
