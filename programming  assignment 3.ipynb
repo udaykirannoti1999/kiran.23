{
 "cells": [
  {
   "cell_type": "code",
   "execution_count": null,
   "metadata": {},
   "outputs": [],
   "source": [
    "#1)Write a Python Program to Check if a Number is Positive, Negative or Zero?"
   ]
  },
  {
   "cell_type": "code",
   "execution_count": 1,
   "metadata": {},
   "outputs": [
    {
     "name": "stdout",
     "output_type": "stream",
     "text": [
      "3  is a positive no.\n"
     ]
    }
   ],
   "source": [
    "x = int(input(\"Enter a no.\"))\n",
    "if x > 0 :\n",
    "    print(\"{}  is a positive no.\".format(x))\n",
    "elif x < 0:\n",
    "    print(\"{}  is a Negative no.\".format(x))\n",
    "else :\n",
    "    print(\"it is zero\")"
   ]
  },
  {
   "cell_type": "code",
   "execution_count": null,
   "metadata": {},
   "outputs": [],
   "source": [
    "#2)Write a Python Program to Check if a Number is Odd or Even?"
   ]
  },
  {
   "cell_type": "code",
   "execution_count": 2,
   "metadata": {},
   "outputs": [
    {
     "name": "stdout",
     "output_type": "stream",
     "text": [
      "odd number\n"
     ]
    }
   ],
   "source": [
    "x=int(input(\"enter a number:\"))\n",
    "if x%2==0:\n",
    "    print(\"even number\")\n",
    "else:\n",
    "    print(\"odd number\")"
   ]
  },
  {
   "cell_type": "code",
   "execution_count": null,
   "metadata": {},
   "outputs": [],
   "source": [
    "#3)Write a Python Program to Check Leap Year?"
   ]
  },
  {
   "cell_type": "code",
   "execution_count": 3,
   "metadata": {},
   "outputs": [
    {
     "name": "stdout",
     "output_type": "stream",
     "text": [
      "2014  is not a Leap Year\n"
     ]
    }
   ],
   "source": [
    "x = int(input(\"Enter Year.\"))\n",
    "if x%4 == 0:\n",
    "    print(\"{}  is a Leap Year\".format(x))\n",
    "else:\n",
    "    print(\"{}  is not a Leap Year\".format(x))"
   ]
  },
  {
   "cell_type": "code",
   "execution_count": null,
   "metadata": {},
   "outputs": [],
   "source": [
    "#4)Write a Python Program to Print all Prime Numbers in an Interval of 1-10000?"
   ]
  },
  {
   "cell_type": "code",
   "execution_count": 12,
   "metadata": {},
   "outputs": [
    {
     "name": "stdout",
     "output_type": "stream",
     "text": [
      "the prime number 3\n",
      "number 4 is not prime number\n",
      "the prime number 5\n",
      "number 6 is not prime number\n",
      "the prime number 7\n",
      "number 8 is not prime number\n",
      "the prime number 9\n",
      "number 10 is not prime number\n",
      "the prime number 11\n",
      "number 12 is not prime number\n",
      "the prime number 13\n",
      "number 14 is not prime number\n",
      "the prime number 15\n",
      "number 16 is not prime number\n",
      "the prime number 17\n",
      "number 18 is not prime number\n",
      "the prime number 19\n"
     ]
    }
   ],
   "source": [
    "x=int(input(\"enter a number1:\"))\n",
    "y=int(input(\"enter a number2:\"))\n",
    "for i in range(x,y):\n",
    "    if i>1:\n",
    "     for j in range(2,i):\n",
    "        if (i%j)==0:\n",
    "            print(\"number {} is not prime number\".format(i))\n",
    "            break\n",
    "        else:\n",
    "            print(\"the prime number\",i)\n",
    "            break"
   ]
  }
 ],
 "metadata": {
  "kernelspec": {
   "display_name": "Python 3",
   "language": "python",
   "name": "python3"
  },
  "language_info": {
   "codemirror_mode": {
    "name": "ipython",
    "version": 3
   },
   "file_extension": ".py",
   "mimetype": "text/x-python",
   "name": "python",
   "nbconvert_exporter": "python",
   "pygments_lexer": "ipython3",
   "version": "3.10.4"
  },
  "orig_nbformat": 4,
  "vscode": {
   "interpreter": {
    "hash": "57227d0e1e6fd139db46774f32d8a6998d06bb1f205932b0fd7e8f2aa638e8eb"
   }
  }
 },
 "nbformat": 4,
 "nbformat_minor": 2
}
