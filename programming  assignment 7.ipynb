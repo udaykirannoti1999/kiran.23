{
 "cells": [
  {
   "cell_type": "code",
   "execution_count": 2,
   "metadata": {},
   "outputs": [
    {
     "name": "stdout",
     "output_type": "stream",
     "text": [
      "Sum :  24\n"
     ]
    }
   ],
   "source": [
    "#Q. Write a Python Program to find sum of array?\n",
    "\n",
    "\n",
    "sum =0\n",
    "arr = [1,2,3,4,5,9]\n",
    "for i in arr:\n",
    "    sum+=i\n",
    "print(\"Sum : \",sum)"
   ]
  },
  {
   "cell_type": "code",
   "execution_count": 7,
   "metadata": {},
   "outputs": [
    {
     "name": "stdout",
     "output_type": "stream",
     "text": [
      "Largest element in [1, 2, 3, 4, 77, 9] is 77\n"
     ]
    }
   ],
   "source": [
    "#Q. Write a Python Program to find largest element in an array?\n",
    "\n",
    "\n",
    "arr = [1,2,3,4,77,9]\n",
    "c=arr[0]\n",
    "for i in range(0, len(arr)):\n",
    "  if arr[i]>c:\n",
    "    c=arr[i]\n",
    "\n",
    "print(\"Largest element in {} is {}\".format(arr ,c) )  "
   ]
  },
  {
   "cell_type": "code",
   "execution_count": 8,
   "metadata": {},
   "outputs": [
    {
     "name": "stdout",
     "output_type": "stream",
     "text": [
      "9\n",
      "77\n",
      "4\n",
      "3\n",
      "2\n"
     ]
    }
   ],
   "source": [
    "#Q. Write a Python Program for array rotation?\n",
    "\n",
    "\n",
    "arr = [1,2,3,4,77,9]\n",
    "rot = []\n",
    "l = len(arr) -1\n",
    "for i in range(l , 0, -1):\n",
    "  print(arr[i])\n"
   ]
  },
  {
   "cell_type": "code",
   "execution_count": 11,
   "metadata": {},
   "outputs": [
    {
     "name": "stdout",
     "output_type": "stream",
     "text": [
      "Arr is  [1, 2, 3, 4]\n",
      "After right rotation :  [3, 4, 1, 2]\n"
     ]
    }
   ],
   "source": [
    "#Q. Write a Python Program for array rotation?\n",
    "\n",
    "\n",
    "l = int(input(\"Enter the lenth of arr : \"))\n",
    "arr = list(map(int,input().split()))\n",
    "print(\"Arr is \",arr)\n",
    "rotation = input(\"Enter Rotation Right/Left : \")\n",
    "noro = int(input(\"Enter the number of elements to rotate  : \"))\n",
    "if noro > l:\n",
    "    print(\"can not rotate as elements to rotate is larger then arr length\")\n",
    "else:\n",
    "    rarr = []\n",
    "    if rotation.upper() == \"RIGHT\":\n",
    "        rarr[:] = arr[-noro:] + arr[:(l-noro)]\n",
    "        print(\"After right rotation : \",rarr)\n",
    "    elif rotation.upper() == \"LEFT\":\n",
    "        rarr[:] = arr[noro:l] + arr[:noro] \n",
    "        print(\"After Left rotation : \",rarr)\n",
    "    else:\n",
    "        print(\"Wrong Entry\")"
   ]
  },
  {
   "cell_type": "code",
   "execution_count": 16,
   "metadata": {},
   "outputs": [
    {
     "name": "stdout",
     "output_type": "stream",
     "text": [
      "The List is  [1, 4, 2, 5]\n",
      "Not Monotonic\n"
     ]
    }
   ],
   "source": [
    "#Q. Write a Python Program to check if given array is Monotonic?\n",
    "\n",
    "\n",
    "l = int(input(\"Enter the lenth of your list : \"))\n",
    "arr = list(map(int,input().split()))\n",
    "print(\"The List is \",arr)\n",
    "flag=0\n",
    "for i in arr:\n",
    "    if all((arr[i] <= arr[i+1] for i in range(l-1)) or (arr[i] >= lst[i+1] for i in range(l-1))):\n",
    "        flag=1\n",
    "        break\n",
    "if flag!=0:\n",
    "    print(\"monotonic\")\n",
    "else:\n",
    "    print(\"Not Monotonic\")\n",
    "     "
   ]
  },
  {
   "cell_type": "code",
   "execution_count": 18,
   "metadata": {},
   "outputs": [
    {
     "name": "stdout",
     "output_type": "stream",
     "text": [
      "The List   [1, 2, 3, 4]\n",
      "The split list is : [1, 2]\n",
      "The List after split and add : [3, 4, 1, 2]\n"
     ]
    }
   ],
   "source": [
    "#Q. Write a Python Program to Split the array and add the first part to the end?\n",
    "\n",
    "\n",
    "l = int(input(\"Enter the lenth of your list : \"))\n",
    "arr = list(map(int,input().split()))\n",
    "\n",
    "\n",
    "print(\"The List  \",arr)\n",
    "\n",
    "noro = int(input(\"Enter the number of elements to split  : \"))\n",
    "if noro > l:\n",
    "    print(\"can not split as elements to split is larger then list lengh\")\n",
    "else:\n",
    "    print(\"The split list is :\",arr[:noro])\n",
    "    rarr[:] = arr[noro:l] + arr[:noro]\n",
    "    print(\"The List after split and add :\", rarr)"
   ]
  }
 ],
 "metadata": {
  "kernelspec": {
   "display_name": "Python 3",
   "language": "python",
   "name": "python3"
  },
  "language_info": {
   "codemirror_mode": {
    "name": "ipython",
    "version": 3
   },
   "file_extension": ".py",
   "mimetype": "text/x-python",
   "name": "python",
   "nbconvert_exporter": "python",
   "pygments_lexer": "ipython3",
   "version": "3.10.4 (tags/v3.10.4:9d38120, Mar 23 2022, 23:13:41) [MSC v.1929 64 bit (AMD64)]"
  },
  "orig_nbformat": 4,
  "vscode": {
   "interpreter": {
    "hash": "57227d0e1e6fd139db46774f32d8a6998d06bb1f205932b0fd7e8f2aa638e8eb"
   }
  }
 },
 "nbformat": 4,
 "nbformat_minor": 2
}
