{
 "cells": [
  {
   "cell_type": "code",
   "execution_count": 1,
   "metadata": {},
   "outputs": [
    {
     "name": "stdout",
     "output_type": "stream",
     "text": [
      "0 1 1 2 "
     ]
    }
   ],
   "source": [
    "#1)Write a Python Program to Display Fibonacci Sequence Using Recursion?\n",
    "#answer\n",
    "def recurfib(n):\n",
    "    if n<=1:\n",
    "        return n\n",
    "    else:\n",
    "        return recurfib(n-1) + recurfib(n-2)\n",
    "\n",
    "num = int(input(\"input no : \"))\n",
    "\n",
    "if num <=0:\n",
    "    print(\"Please provide positive no.\")\n",
    "\n",
    "else:\n",
    "    for i in range(num):\n",
    "        print(recurfib(i) , end=\" \")\n",
    "       \n",
    "    "
   ]
  },
  {
   "cell_type": "code",
   "execution_count": 2,
   "metadata": {},
   "outputs": [
    {
     "name": "stdout",
     "output_type": "stream",
     "text": [
      "24\n"
     ]
    }
   ],
   "source": [
    "#2)\n",
    "def fact(n):\n",
    "    if n==0:\n",
    "      return 1\n",
    "    else:\n",
    "        return n*fact(n-1)\n",
    "num=int(input(\"enter  a number\"))\n",
    "if num<0:\n",
    "    print(\"not a postive number\")\n",
    "else:\n",
    "    print(fact(num))"
   ]
  },
  {
   "cell_type": "code",
   "execution_count": 3,
   "metadata": {},
   "outputs": [
    {
     "name": "stdout",
     "output_type": "stream",
     "text": [
      "The BIM is =  0.3125\n"
     ]
    }
   ],
   "source": [
    "#3)Write a Python Program to calculate your Body Mass Index?¶\n",
    "#answer\n",
    "\n",
    "# BMI = weight / Height * height\n",
    "\n",
    "h = float(input(\"enter your height in feet : \"))\n",
    "w = float(input(\"enter your weight in kilo : \"))\n",
    "\n",
    "bmi = w/(h**2)\n",
    "\n",
    "print(\"The BIM is = \",bmi)"
   ]
  },
  {
   "cell_type": "code",
   "execution_count": 4,
   "metadata": {},
   "outputs": [
    {
     "name": "stdout",
     "output_type": "stream",
     "text": [
      "Log of 5 is 1.6094379124341003\n"
     ]
    }
   ],
   "source": [
    "#4Write a Python Program to calculate the natural logarithm of any number?\n",
    "#answer\n",
    "import math\n",
    "x = int(input((\"Enter a number : \")))\n",
    "log = math.log(x)\n",
    "print(\"Log of {} is {}\".format(x, log))"
   ]
  },
  {
   "cell_type": "code",
   "execution_count": 11,
   "metadata": {},
   "outputs": [
    {
     "name": "stdout",
     "output_type": "stream",
     "text": [
      "100\n"
     ]
    }
   ],
   "source": [
    "#5)Write a Python Program for cube sum of first n natural numbers?\n",
    "s=0\n",
    "n=int(input(\"enter a number:\"))\n",
    "for i in range(1,n+1):\n",
    "    s=s+i**3\n",
    "print(s)"
   ]
  }
 ],
 "metadata": {
  "kernelspec": {
   "display_name": "Python 3",
   "language": "python",
   "name": "python3"
  },
  "language_info": {
   "codemirror_mode": {
    "name": "ipython",
    "version": 3
   },
   "file_extension": ".py",
   "mimetype": "text/x-python",
   "name": "python",
   "nbconvert_exporter": "python",
   "pygments_lexer": "ipython3",
   "version": "3.10.4 (tags/v3.10.4:9d38120, Mar 23 2022, 23:13:41) [MSC v.1929 64 bit (AMD64)]"
  },
  "orig_nbformat": 4,
  "vscode": {
   "interpreter": {
    "hash": "57227d0e1e6fd139db46774f32d8a6998d06bb1f205932b0fd7e8f2aa638e8eb"
   }
  }
 },
 "nbformat": 4,
 "nbformat_minor": 2
}
