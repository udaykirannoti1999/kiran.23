{
 "cells": [
  {
   "cell_type": "markdown",
   "id": "72ddef74-7ad9-4141-8528-7640e9daed68",
   "metadata": {},
   "source": [
    "1.How many seconds are in an hour? Use the interactive interpreter as a calculator and multiply the\n",
    "number of seconds in a minute (60) by the number of minutes in an hour (also 60)."
   ]
  },
  {
   "cell_type": "code",
   "execution_count": 1,
   "id": "3010ac78-4ecc-4ba2-849b-eaa1c6de2fad",
   "metadata": {},
   "outputs": [
    {
     "data": {
      "text/plain": [
       "3600"
      ]
     },
     "execution_count": 1,
     "metadata": {},
     "output_type": "execute_result"
    }
   ],
   "source": [
    "60*60"
   ]
  },
  {
   "cell_type": "markdown",
   "id": "e5665075-a0e5-4736-869a-7d078d0297cb",
   "metadata": {},
   "source": [
    "2. Assign the result from the previous task (seconds in an hour) to a variable called\n",
    "seconds_per_hour."
   ]
  },
  {
   "cell_type": "code",
   "execution_count": 3,
   "id": "89bc6984-1219-4d90-b5ad-b1593ad2b043",
   "metadata": {},
   "outputs": [
    {
     "name": "stdout",
     "output_type": "stream",
     "text": [
      "3600\n"
     ]
    }
   ],
   "source": [
    "seconds_per_hour=60*60\n",
    "print(seconds_per_hour)"
   ]
  },
  {
   "cell_type": "markdown",
   "id": "09d6ccaf-f995-472b-b971-b56ecca588b7",
   "metadata": {},
   "source": [
    "3)How many seconds do you think there are in a day? Make use of the variables seconds per hour\n",
    "and minutes per hour."
   ]
  },
  {
   "cell_type": "code",
   "execution_count": 4,
   "id": "db667c01-b236-4e51-8e43-209941d11920",
   "metadata": {},
   "outputs": [
    {
     "data": {
      "text/plain": [
       "86400"
      ]
     },
     "execution_count": 4,
     "metadata": {},
     "output_type": "execute_result"
    }
   ],
   "source": [
    "24*3600"
   ]
  },
  {
   "cell_type": "markdown",
   "id": "725a386c-7d24-4874-9ce4-606958e31704",
   "metadata": {},
   "source": [
    "4)Calculate seconds per day again, but this time save the result in a variable called seconds_per_day"
   ]
  },
  {
   "cell_type": "code",
   "execution_count": 10,
   "id": "992056db-606f-40e0-b931-0b89a0eb24d9",
   "metadata": {},
   "outputs": [
    {
     "name": "stdout",
     "output_type": "stream",
     "text": [
      "86400\n"
     ]
    }
   ],
   "source": [
    "secondsperday=24*seconds_per_hour\n",
    "print(secondsperday)"
   ]
  },
  {
   "cell_type": "markdown",
   "id": "2c4f6f98-4921-466f-98a8-6e5f4cf481ef",
   "metadata": {},
   "source": [
    "5. Divide seconds_per_day by seconds_per_hour. Use floating-point (/) division."
   ]
  },
  {
   "cell_type": "code",
   "execution_count": 11,
   "id": "659b81c3-37ec-4d06-9e3c-b7119ff1f382",
   "metadata": {},
   "outputs": [
    {
     "data": {
      "text/plain": [
       "24"
      ]
     },
     "execution_count": 11,
     "metadata": {},
     "output_type": "execute_result"
    }
   ],
   "source": [
    "secondsperday//seconds_per_hour"
   ]
  },
  {
   "cell_type": "markdown",
   "id": "176dbd98-3777-42f6-bc9f-dd28bb67d539",
   "metadata": {},
   "source": [
    "6. Divide seconds_per_day by seconds_per_hour, using integer (//) division. Did this number agree\n",
    "with the floating-point value from the previous question, aside from the final .0?"
   ]
  },
  {
   "cell_type": "code",
   "execution_count": 12,
   "id": "c5679253-245b-4606-8a8a-acf7bf2d0cdb",
   "metadata": {},
   "outputs": [
    {
     "data": {
      "text/plain": [
       "24"
      ]
     },
     "execution_count": 12,
     "metadata": {},
     "output_type": "execute_result"
    }
   ],
   "source": [
    "secondsperday//seconds_per_hour"
   ]
  },
  {
   "cell_type": "markdown",
   "id": "5e34cbfa-fd57-4ede-9d16-4f0b964ab468",
   "metadata": {},
   "source": [
    "Q. Write a generator, genPrimes, that returns the sequence of prime numbers on successive calls to its next() method: 2, 3, 5, 7, 11, ..."
   ]
  },
  {
   "cell_type": "code",
   "execution_count": null,
   "id": "88099b49-2f54-45da-9909-5df2b380b60c",
   "metadata": {},
   "outputs": [],
   "source": [
    "def genPrimes(nu):\n",
    "    primes = []\n",
    "    while True:\n",
    "        for p in primes:\n",
    "            if nu % p == 0:\n",
    "                break\n",
    "        else:\n",
    "            primes.append(nu)\n",
    "            yield nu\n",
    "        nu+= 1\n",
    "num=int(input())  "
   ]
  },
  {
   "cell_type": "code",
   "execution_count": null,
   "id": "3c442a65-0c07-4f15-8e87-7c2ffd165624",
   "metadata": {},
   "outputs": [],
   "source": []
  }
 ],
 "metadata": {
  "kernelspec": {
   "display_name": "Python 3 (ipykernel)",
   "language": "python",
   "name": "python3"
  },
  "language_info": {
   "codemirror_mode": {
    "name": "ipython",
    "version": 3
   },
   "file_extension": ".py",
   "mimetype": "text/x-python",
   "name": "python",
   "nbconvert_exporter": "python",
   "pygments_lexer": "ipython3",
   "version": "3.10.6"
  }
 },
 "nbformat": 4,
 "nbformat_minor": 5
}
