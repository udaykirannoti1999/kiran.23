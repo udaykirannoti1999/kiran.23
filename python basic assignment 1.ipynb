{
 "cells": [
  {
   "cell_type": "raw",
   "id": "996174bd-d9a2-4307-bde6-6a289d2ecaf4",
   "metadata": {},
   "source": [
    "1 . In the below elements which of them are values or an expression? eg:- values can be integer or string and expressions will be mathematical operators.\n",
    "\n",
    "Ans :- 1) * = operator\n",
    "2) 'hello'= value\n",
    "3) -87.8 = value\n",
    "4) - = operator\n",
    "5) / = operator\n",
    "6) + = operator\n",
    "7) 6 = value "
   ]
  },
  {
   "cell_type": "markdown",
   "id": "042128bb-c8bb-427f-b520-837b34b673ec",
   "metadata": {},
   "source": [
    "2 What is the difference between string and variable?\n",
    "\n",
    "Ans - String :- String is a datatype .\n",
    "Variable :- Variables are containers for storing data values. For example x= \"Shiva\" , Here x is a variable and \"Shiva\" is a string."
   ]
  },
  {
   "cell_type": "markdown",
   "id": "24ef5b17-12d7-4da4-9954-2e778a88fb7f",
   "metadata": {},
   "source": [
    "3.Describe three different data types.\n",
    "\n",
    "Ans :- Text Type = str\n",
    "Numeric Types = int, float, complex\n",
    "Boolean Type = bool"
   ]
  },
  {
   "cell_type": "markdown",
   "id": "b3d7acd2-f536-4b1a-837a-b8dbfd98de2b",
   "metadata": {},
   "source": [
    "4.What is an expression made up of? What do all expressions do?\n",
    "\n",
    "Ans. An expression is a combination of operators, variables, values. Expressions need to be evaluated .All expressions evaluate to a single value."
   ]
  },
  {
   "cell_type": "markdown",
   "id": "5a36bcb7-5cd7-4ce6-96f0-bae25f0537ee",
   "metadata": {},
   "source": [
    "5.This assignment statements, like spam = 10. What is the difference between an expression and a statement?\n",
    "\n",
    "Ans. A statement does something. Statements represent an action or command e.g print statements, assignment statements. An expression is a combination of operators, variables, values. Expressions need to be evaluated. An expression is something that can be reduced to a value."
   ]
  },
  {
   "cell_type": "code",
   "execution_count": 1,
   "id": "04575f8c-a9e5-4cd2-a0c6-103c4b0db23d",
   "metadata": {},
   "outputs": [
    {
     "ename": "IndentationError",
     "evalue": "unexpected indent (1231471057.py, line 3)",
     "output_type": "error",
     "traceback": [
      "\u001b[0;36m  Cell \u001b[0;32mIn [1], line 3\u001b[0;36m\u001b[0m\n\u001b[0;31m    bacon = 22\u001b[0m\n\u001b[0m    ^\u001b[0m\n\u001b[0;31mIndentationError\u001b[0m\u001b[0;31m:\u001b[0m unexpected indent\n"
     ]
    }
   ],
   "source": [
    "#Q6. After running the following code, what does the variable bacon contain? bacon = 22 bacon + 1\n",
    "#ans:  \n"
   ]
  },
  {
   "cell_type": "code",
   "execution_count": 2,
   "id": "ae85651b-2869-4ed8-bb4c-40d46ac2ceaf",
   "metadata": {},
   "outputs": [
    {
     "name": "stdout",
     "output_type": "stream",
     "text": [
      "22\n"
     ]
    }
   ],
   "source": [
    "bacon = 22\n",
    "bacon + 1\n",
    "print(bacon)"
   ]
  },
  {
   "cell_type": "markdown",
   "id": "07778a32-33a0-4aa4-8f80-c3b3a153e61c",
   "metadata": {},
   "source": [
    "7. What should the values of the following two terms be?"
   ]
  },
  {
   "cell_type": "code",
   "execution_count": 3,
   "id": "d90db167-cbc0-4511-bd77-9ba67e785561",
   "metadata": {},
   "outputs": [
    {
     "name": "stdout",
     "output_type": "stream",
     "text": [
      "spamspamspam\n",
      "spamspamspam\n"
     ]
    }
   ],
   "source": [
    "print('spam'+'spamspam')\n",
    "print('spam'*3)"
   ]
  },
  {
   "cell_type": "markdown",
   "id": "679c70f8-ca5b-48f0-ba23-5afc10f5f2cd",
   "metadata": {},
   "source": [
    "Q8. Why is eggs a valid variable name while 100 is invalid?\n",
    "\n",
    "Ans. According to rules in python: A variable name cannot start with a number, therefore 100 cannot be the variable name ."
   ]
  },
  {
   "cell_type": "markdown",
   "id": "cfa54e9e-443d-4692-9544-b6b42f09b678",
   "metadata": {},
   "source": [
    "Q9. What three functions can be used to get the integer, floating-point number, or string version of a value?\n",
    "\n",
    "Ans :- The int(), float(), and str() functions will evaluate to the integer, floating-point number, and string versions of the value passed to them.\n",
    "\n",
    "I can explain this by using a code"
   ]
  },
  {
   "cell_type": "code",
   "execution_count": null,
   "id": "078ad0bc-908b-4cb1-af2d-1faa02f3d31e",
   "metadata": {},
   "outputs": [],
   "source": [
    "a = int(10)\n",
    "print(type(a))\n",
    "#Converting to float\n",
    "b = float(10)\n",
    "print(type(float_value ))\n",
    "#Converting to String\n",
    "c = str(10)\n",
    "print(type(string_value)"
   ]
  }
 ],
 "metadata": {
  "kernelspec": {
   "display_name": "Python 3 (ipykernel)",
   "language": "python",
   "name": "python3"
  },
  "language_info": {
   "codemirror_mode": {
    "name": "ipython",
    "version": 3
   },
   "file_extension": ".py",
   "mimetype": "text/x-python",
   "name": "python",
   "nbconvert_exporter": "python",
   "pygments_lexer": "ipython3",
   "version": "3.10.6"
  }
 },
 "nbformat": 4,
 "nbformat_minor": 5
}
