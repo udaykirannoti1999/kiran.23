{
 "cells": [
  {
   "cell_type": "code",
   "execution_count": 5,
   "metadata": {},
   "outputs": [
    {
     "name": "stdout",
     "output_type": "stream",
     "text": [
      "\n",
      "The original string ' i love coding  '\n",
      "Words greater than k3\n",
      "['love', 'coding']\n"
     ]
    }
   ],
   "source": [
    "#Q. Write a Python program to find words which are greater than given length k?\n",
    "def Biggerthank(k,str):\n",
    "    txt = str.split()\n",
    "    Wordlist = []\n",
    "    for i in txt:\n",
    "        if len(i) > k:\n",
    "            Wordlist.append(i)\n",
    "    return Wordlist\n",
    "\n",
    "str = input(\"Enter the string : \")\n",
    "k = int(input(\"Enter the lenth K : \"))\n",
    "\n",
    "Wordlist = Biggerthank(k,str)\n",
    "\n",
    "print(\"\\nThe original string ' {} '\".format(str))\n",
    "\n",
    "print(\"Words greater than k{}\".format(k))\n",
    "print(Wordlist)"
   ]
  },
  {
   "cell_type": "code",
   "execution_count": 9,
   "metadata": {},
   "outputs": [
    {
     "name": "stdout",
     "output_type": "stream",
     "text": [
      "hllo\n"
     ]
    }
   ],
   "source": [
    "#Q.Write a Python program for removing i-th character from a string?\n",
    "def remove(str,k):\n",
    "    for j in range(len(str)):\n",
    "         if j == k:\n",
    "            str = str.replace(str[i], \"\")\n",
    "    return str      \n",
    "   \n",
    "str=input(\"enter a string\")\n",
    "i=int(input(\"neter a number\"))\n",
    "print(remove(str, i))"
   ]
  },
  {
   "cell_type": "code",
   "execution_count": 10,
   "metadata": {},
   "outputs": [
    {
     "name": "stdout",
     "output_type": "stream",
     "text": [
      "I-love-coding\n"
     ]
    }
   ],
   "source": [
    "#Q.Write a Python program to split and join a string?\n",
    "str = \"I love coding\"\n",
    "str = str.split(\" \") \n",
    "str=\"-\".join(str)\n",
    "print(str)"
   ]
  },
  {
   "cell_type": "code",
   "execution_count": 17,
   "metadata": {},
   "outputs": [
    {
     "name": "stdout",
     "output_type": "stream",
     "text": [
      "binary\n"
     ]
    }
   ],
   "source": [
    "#Q. Write a Python to check if a given string is binary string or not?\n",
    "def binary(st):\n",
    " bi=\"01\"\n",
    " for i in str:\n",
    "    if i not in bi:\n",
    "        print(\"not binary\")\n",
    "        break\n",
    " else:\n",
    "   print(\"binary\")\n",
    "str=input(\"enter a binary string:\")\n",
    "binary(str)\n"
   ]
  },
  {
   "cell_type": "code",
   "execution_count": 18,
   "metadata": {},
   "outputs": [
    {
     "name": "stdout",
     "output_type": "stream",
     "text": [
      "The list of un Common words :   is person\n"
     ]
    }
   ],
   "source": [
    "#Q. Write a Python program to find uncommon words from two Strings?\n",
    "def unCommon(a,b):\n",
    "    list_one = a.split()\n",
    "    list_two = b.split()\n",
    "    notcom =''\n",
    "    \n",
    "    for i in list_one:\n",
    "        if i not in list_two:\n",
    "            notcom = notcom +\" \"+ i\n",
    "    for j in list_two:\n",
    "        if j not in list_one:\n",
    "            notcom = notcom +\" \"+ j\n",
    "    return notcom\n",
    "\n",
    "a = input(\"Enter the string a : \").lower()\n",
    "b = input(\"Enter the string b : \").lower()\n",
    "\n",
    "print(\"The list of un Common words : \", unCommon(a,b))"
   ]
  },
  {
   "cell_type": "code",
   "execution_count": 23,
   "metadata": {},
   "outputs": [
    {
     "data": {
      "text/plain": [
       "['p', 'o', ' ']"
      ]
     },
     "execution_count": 23,
     "metadata": {},
     "output_type": "execute_result"
    }
   ],
   "source": [
    "#Q.Write a Python to find all duplicate characters in string?\n",
    "\n",
    "str = input(\"Enter the string a : \").lower()\n",
    "duplicate = []\n",
    "\n",
    "for i in str:\n",
    "    if str.count(i) >1 :\n",
    "        if i not in duplicate:\n",
    "            duplicate.append(i)\n",
    "        \n",
    "duplicate"
   ]
  },
  {
   "cell_type": "code",
   "execution_count": 25,
   "metadata": {},
   "outputs": [
    {
     "name": "stdout",
     "output_type": "stream",
     "text": [
      "String i am !@##$% has special charecter/s : ['!', '@', '#', '#', '$', '%']\n"
     ]
    }
   ],
   "source": [
    "#Q.Write a Python Program to check if a string contains any special character?\n",
    "\n",
    "\n",
    "import string\n",
    "\n",
    "str_char = string.punctuation\n",
    "speci_str = []\n",
    "\n",
    "str = input(\"Enter the string a : \\n\").lower()\n",
    "for i in str:\n",
    "    if i in str_char:\n",
    "        speci_str.append(i)\n",
    "if len(speci_str) > 0:\n",
    "    print(\"String {} has special charecter/s : {}\".format(str,speci_str))\n"
   ]
  }
 ],
 "metadata": {
  "kernelspec": {
   "display_name": "Python 3",
   "language": "python",
   "name": "python3"
  },
  "language_info": {
   "codemirror_mode": {
    "name": "ipython",
    "version": 3
   },
   "file_extension": ".py",
   "mimetype": "text/x-python",
   "name": "python",
   "nbconvert_exporter": "python",
   "pygments_lexer": "ipython3",
   "version": "3.10.4 (tags/v3.10.4:9d38120, Mar 23 2022, 23:13:41) [MSC v.1929 64 bit (AMD64)]"
  },
  "orig_nbformat": 4,
  "vscode": {
   "interpreter": {
    "hash": "57227d0e1e6fd139db46774f32d8a6998d06bb1f205932b0fd7e8f2aa638e8eb"
   }
  }
 },
 "nbformat": 4,
 "nbformat_minor": 2
}
