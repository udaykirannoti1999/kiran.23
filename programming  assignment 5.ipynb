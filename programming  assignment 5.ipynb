{
 "cells": [
  {
   "cell_type": "code",
   "execution_count": 1,
   "metadata": {},
   "outputs": [
    {
     "name": "stdout",
     "output_type": "stream",
     "text": [
      "The LCM of 3 and 4 is 12\n"
     ]
    }
   ],
   "source": [
    "#1)Write a Python Program to Find LCM?\n",
    "\n",
    "#answer\n",
    "x = int(input(\"Enter num1 : \"))\n",
    "y = int(input(\"Enter num2 : \"))\n",
    "\n",
    "# big no.\n",
    "if x > y:\n",
    "    big = x\n",
    "else:\n",
    "    big = y\n",
    "    \n",
    "while(True):\n",
    "    if big % x == 0 and big % y == 0 :\n",
    "        lcm = big\n",
    "        break\n",
    "    big+=1\n",
    "    \n",
    "print(\"The LCM of {} and {} is {}\".format(x,y,lcm))\n",
    "     "
   ]
  },
  {
   "cell_type": "code",
   "execution_count": 2,
   "metadata": {},
   "outputs": [
    {
     "name": "stdout",
     "output_type": "stream",
     "text": [
      "The hcf of 4 and 12 is 4\n"
     ]
    }
   ],
   "source": [
    "#2)Write a Python Program to Find HCF?\n",
    "\n",
    "#answer\n",
    "x = int(input(\"Enter num1 : \"))\n",
    "y = int(input(\"Enter num2 : \"))\n",
    "\n",
    "# big no\n",
    "if x < y:\n",
    "    small = x\n",
    "else:\n",
    "    small = y\n",
    "hcf = 0   \n",
    "for i in range(1,small+1):\n",
    "    if x % i == 0 and y % i == 0 :\n",
    "        hcf = i\n",
    "    \n",
    "print(\"The hcf of {} and {} is {}\".format(x,y,hcf))"
   ]
  },
  {
   "cell_type": "code",
   "execution_count": 4,
   "metadata": {},
   "outputs": [
    {
     "name": "stdout",
     "output_type": "stream",
     "text": [
      "Ascii value of b is 98\n"
     ]
    }
   ],
   "source": [
    "#3)Write a Python Program To Find ASCII value of a character?\n",
    "\n",
    "#answer\n",
    "st = input(\"Enter a Charecter : \")\n",
    "# ord gives the ASCII value of a character\n",
    "print(\"Ascii value of {} is {}\".format(st,ord(st)))"
   ]
  },
  {
   "cell_type": "code",
   "execution_count": 8,
   "metadata": {},
   "outputs": [
    {
     "name": "stdout",
     "output_type": "stream",
     "text": [
      "invalid input\n"
     ]
    }
   ],
   "source": [
    "a=int(input(\"enter a number1:\"))\n",
    "b=int(input(\"enter  a number2:\"))\n",
    "op=input(\"enter your option\")\n",
    "add = a + b\n",
    "sub = a - b\n",
    "mul = a* b\n",
    "if op==\"+\":\n",
    "    print(\"{} + {}={}\".format(a,b,a+b))\n",
    "elif op==\"-\":\n",
    "    print(\"{}-{}={}\".format(a,b,sub))\n",
    "elif op==\"*\":\n",
    "    print(\"{}*{}={}\".format(a,b,mul))\n",
    "elif op == \"/\":\n",
    "    if a == 0 or b == 0:\n",
    "        print(\"Division with zero is not possible\")\n",
    "    else:\n",
    "        div = a / b\n",
    "        print(\"{} / {} = {}\".format(a,b,div))\n",
    "else:\n",
    "    print(\"invalid input\")"
   ]
  }
 ],
 "metadata": {
  "kernelspec": {
   "display_name": "Python 3",
   "language": "python",
   "name": "python3"
  },
  "language_info": {
   "codemirror_mode": {
    "name": "ipython",
    "version": 3
   },
   "file_extension": ".py",
   "mimetype": "text/x-python",
   "name": "python",
   "nbconvert_exporter": "python",
   "pygments_lexer": "ipython3",
   "version": "3.11.1"
  },
  "orig_nbformat": 4,
  "vscode": {
   "interpreter": {
    "hash": "56f02fe463f4689633e0ad76928b3d9b8580111fe9c369b09908d82f9ab18d80"
   }
  }
 },
 "nbformat": 4,
 "nbformat_minor": 2
}
