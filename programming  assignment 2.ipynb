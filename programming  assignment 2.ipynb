{
 "cells": [
  {
   "cell_type": "code",
   "execution_count": 1,
   "metadata": {},
   "outputs": [
    {
     "name": "stdout",
     "output_type": "stream",
     "text": [
      "Miles =  2.48\n"
     ]
    }
   ],
   "source": [
    "km = int(input(\"Enter Kilometer: \"))\n",
    "miles = km*0.62\n",
    "print(\"Miles = \" , miles)"
   ]
  },
  {
   "cell_type": "code",
   "execution_count": 2,
   "metadata": {},
   "outputs": [
    {
     "name": "stdout",
     "output_type": "stream",
     "text": [
      "41.0\n"
     ]
    }
   ],
   "source": [
    "Celsius = int(input(\"Enter Celsius : \"))\n",
    "\n",
    "fahrenheit = (Celsius * 9/5) +32\n",
    "print(fahrenheit)"
   ]
  },
  {
   "cell_type": "code",
   "execution_count": 5,
   "metadata": {},
   "outputs": [
    {
     "name": "stdout",
     "output_type": "stream",
     "text": [
      "   December 2022\n",
      "Mo Tu We Th Fr Sa Su\n",
      "          1  2  3  4\n",
      " 5  6  7  8  9 10 11\n",
      "12 13 14 15 16 17 18\n",
      "19 20 21 22 23 24 25\n",
      "26 27 28 29 30 31\n",
      "\n"
     ]
    }
   ],
   "source": [
    "import calendar\n",
    "yy = int(input(\"Enter year = \"))\n",
    "mm = int(input(\"Enter month in number = \"))\n",
    "print(calendar.month(yy,mm))"
   ]
  },
  {
   "cell_type": "code",
   "execution_count": 8,
   "metadata": {},
   "outputs": [
    {
     "name": "stdout",
     "output_type": "stream",
     "text": [
      "(-0.25+0j) the solution: (-1+0j)\n"
     ]
    }
   ],
   "source": [
    "import cmath\n",
    "a=int(input(\"Enter a = \"))\n",
    "b=int(input(\"Enter b = \"))\n",
    "c=int(input(\"Enter c = \"))\n",
    "discriminant = (b**2)-(4*a*c)\n",
    "sol_one = (-b+cmath.sqrt(discriminant))/(2*a)\n",
    "sol_two = (-b-cmath.sqrt(discriminant))/(2*a)\n",
    "print(sol_one ,\"the solution:\", sol_two)\n"
   ]
  },
  {
   "cell_type": "code",
   "execution_count": 9,
   "metadata": {},
   "outputs": [
    {
     "name": "stdout",
     "output_type": "stream",
     "text": [
      "First Variable Before swap  : 3 \n",
      " Second variable Before Swap  : 4\n",
      "After Swap : \n",
      " First Variabe : 4 \n",
      "  Second Variable : 3\n"
     ]
    }
   ],
   "source": [
    "first_variable = int(input(\"First Variable =\"))\n",
    "second_variable = int(input(\"Second Variable =\"))\n",
    "print(\"First Variable Before swap  : {} \\n Second variable Before Swap  : {}\".format(first_variable,second_variable))\n",
    "first_variable , second_variable = second_variable , first_variable\n",
    "\n",
    "print(\"After Swap : \\n First Variabe : {} \\n  Second Variable : {}\".format(first_variable , second_variable))"
   ]
  }
 ],
 "metadata": {
  "kernelspec": {
   "display_name": "Python 3",
   "language": "python",
   "name": "python3"
  },
  "language_info": {
   "codemirror_mode": {
    "name": "ipython",
    "version": 3
   },
   "file_extension": ".py",
   "mimetype": "text/x-python",
   "name": "python",
   "nbconvert_exporter": "python",
   "pygments_lexer": "ipython3",
   "version": "3.10.4"
  },
  "orig_nbformat": 4,
  "vscode": {
   "interpreter": {
    "hash": "57227d0e1e6fd139db46774f32d8a6998d06bb1f205932b0fd7e8f2aa638e8eb"
   }
  }
 },
 "nbformat": 4,
 "nbformat_minor": 2
}
