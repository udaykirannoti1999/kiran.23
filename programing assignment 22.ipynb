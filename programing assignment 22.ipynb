{
 "cells": [
  {
   "attachments": {},
   "cell_type": "markdown",
   "metadata": {},
   "source": [
    "1. Create a function that takes three parameters where:\n",
    "\n",
    " x is the start of the range (inclusive).  y is the end of the range (inclusive).  n is the divisor to be checked against. Return an ordered list with numbers in the range that are divisible by the third parameter n. Return an empty list if there are no numbers that are divisible by n. Examples list_operation(1, 10, 3) ➞ [3, 6, 9] list_operation(7, 9, 2) ➞ [8] list_operation(15, 20, 7) ➞ []\n",
    "\n"
   ]
  },
  {
   "cell_type": "code",
   "execution_count": 1,
   "metadata": {},
   "outputs": [],
   "source": [
    "def list_operation(x,y,n):\n",
    "    \n",
    "    divisor = []\n",
    "    nonDiv = []\n",
    "    for i in range(x,y+1):\n",
    "        if i % n == 0:\n",
    "            divisor.append(i)\n",
    "    return divisor"
   ]
  },
  {
   "cell_type": "code",
   "execution_count": 2,
   "metadata": {},
   "outputs": [
    {
     "data": {
      "text/plain": [
       "[3, 6, 9]"
      ]
     },
     "execution_count": 2,
     "metadata": {},
     "output_type": "execute_result"
    }
   ],
   "source": [
    "list_operation(1, 10, 3)"
   ]
  },
  {
   "attachments": {},
   "cell_type": "markdown",
   "metadata": {},
   "source": [
    "2. Create a function that takes in two lists and returns True if the second list follows the first list\n",
    "\n",
    "by one element, and False otherwise. In other words, determine if the second list is the first list shifted to the right by 1. Examples simon_says([1, 2], [5, 1]) ➞ True simon_says([1, 2], [5, 5]) ➞ False simon_says([1, 2, 3, 4, 5], [0, 1, 2, 3, 4]) ➞ True simon_says([1, 2, 3, 4, 5], [5, 5, 1, 2, 3]) ➞ False Notes  Both input lists will be of the same length, and will have a minimum length of 2.  The values of the 0-indexed element in the second list and the n-1th indexed element in the first list do not matter."
   ]
  },
  {
   "cell_type": "code",
   "execution_count": 4,
   "metadata": {},
   "outputs": [],
   "source": [
    "def simon_says(ls,ls2):\n",
    "    if ls[0:len(ls)-1] == ls2[1:len(ls2)]:\n",
    "        return True\n",
    "    return False\n",
    "     "
   ]
  },
  {
   "cell_type": "code",
   "execution_count": 5,
   "metadata": {},
   "outputs": [
    {
     "data": {
      "text/plain": [
       "True"
      ]
     },
     "execution_count": 5,
     "metadata": {},
     "output_type": "execute_result"
    }
   ],
   "source": [
    "simon_says([1, 2], [5, 1])"
   ]
  },
  {
   "cell_type": "code",
   "execution_count": 6,
   "metadata": {},
   "outputs": [
    {
     "data": {
      "text/plain": [
       "True"
      ]
     },
     "execution_count": 6,
     "metadata": {},
     "output_type": "execute_result"
    }
   ],
   "source": [
    "simon_says([1, 2, 3, 4, 5], [0, 1, 2, 3, 4])"
   ]
  },
  {
   "attachments": {},
   "cell_type": "markdown",
   "metadata": {},
   "source": [
    "3. A group of friends have decided to start a secret society. The name will be the first letter of\n",
    "\n",
    "each of their names, sorted in alphabetical order. Create a function that takes in a list of names and returns the name of the secret society.\n",
    "\n",
    "Examples society_name(['Adam', 'Sarah', 'Malcolm']) ➞ 'AMS' society_name(['Harry', 'Newt', 'Luna', 'Cho']) ➞ 'CHLN' society_name(['Phoebe', 'Chandler', 'Rachel', 'Ross', 'Monica', 'Joey'])"
   ]
  },
  {
   "cell_type": "code",
   "execution_count": 9,
   "metadata": {},
   "outputs": [
    {
     "data": {
      "text/plain": [
       "'daa'"
      ]
     },
     "execution_count": 9,
     "metadata": {},
     "output_type": "execute_result"
    }
   ],
   "source": [
    "def society_name(lst):\n",
    "    return ''.join([i[0] for i in sorted(lst)])\n",
    "     \n",
    "\n",
    "society_name(['Adam', 'Sarah', 'Malcolm'])\n"
   ]
  },
  {
   "cell_type": "code",
   "execution_count": 8,
   "metadata": {},
   "outputs": [
    {
     "data": {
      "text/plain": [
       "'CHLN'"
      ]
     },
     "execution_count": 8,
     "metadata": {},
     "output_type": "execute_result"
    }
   ],
   "source": [
    "society_name(['Harry', 'Newt', 'Luna', 'Cho'])"
   ]
  },
  {
   "attachments": {},
   "cell_type": "markdown",
   "metadata": {},
   "source": [
    "4. An isogram is a word that has no duplicate letters. Create a function that takes a string an4\n",
    "\n",
    "returns either True or False depending on whether or not it's an 'isogram'. Examples is_isogram('Algorism') ➞ True is_isogram('PasSword') ➞ False Not case sensitive. is_isogram('Consecutive') ➞ False Notes  Ignore letter case (should not be case sensitive).  All test cases contain valid one word strings."
   ]
  },
  {
   "cell_type": "code",
   "execution_count": 10,
   "metadata": {},
   "outputs": [],
   "source": [
    "def is_isogram(s):\n",
    "    for i in range(len(s)):\n",
    "        if s.lower().count(s[i]) > 1:\n",
    "            return False\n",
    "    else:\n",
    "        return True"
   ]
  },
  {
   "cell_type": "code",
   "execution_count": 11,
   "metadata": {},
   "outputs": [
    {
     "data": {
      "text/plain": [
       "True"
      ]
     },
     "execution_count": 11,
     "metadata": {},
     "output_type": "execute_result"
    }
   ],
   "source": [
    "is_isogram('Algorism')"
   ]
  },
  {
   "attachments": {},
   "cell_type": "markdown",
   "metadata": {},
   "source": [
    "5. Create a function that takes a string and returns True or False, depending on whether the\n",
    "\n",
    "characters are in order or not. Examples is_in_order('abc') ➞ True is_in_order('edabit') ➞ False is_in_order('123') ➞ True is_in_order('xyzz') ➞ True Notes You don't have to handle empty strings."
   ]
  },
  {
   "cell_type": "code",
   "execution_count": 12,
   "metadata": {},
   "outputs": [],
   "source": [
    "def is_in_order(s):\n",
    "    n = len(s)\n",
    "    c = [s[i] for i in range(len(s))]\n",
    "    c.sort()\n",
    "    for i in range(n):\n",
    "        if c[i] != s[i]:\n",
    "            return False\n",
    "    return True\n",
    "     "
   ]
  },
  {
   "cell_type": "code",
   "execution_count": 13,
   "metadata": {},
   "outputs": [
    {
     "data": {
      "text/plain": [
       "True"
      ]
     },
     "execution_count": 13,
     "metadata": {},
     "output_type": "execute_result"
    }
   ],
   "source": [
    "is_in_order('abc')\n",
    "\n",
    "     "
   ]
  },
  {
   "cell_type": "code",
   "execution_count": 15,
   "metadata": {},
   "outputs": [
    {
     "data": {
      "text/plain": [
       "True"
      ]
     },
     "execution_count": 15,
     "metadata": {},
     "output_type": "execute_result"
    }
   ],
   "source": [
    "is_in_order('xyzz')"
   ]
  },
  {
   "cell_type": "code",
   "execution_count": 14,
   "metadata": {},
   "outputs": [
    {
     "data": {
      "text/plain": [
       "True"
      ]
     },
     "execution_count": 14,
     "metadata": {},
     "output_type": "execute_result"
    }
   ],
   "source": [
    "\n",
    "is_in_order('123')\n",
    "\n"
   ]
  }
 ],
 "metadata": {
  "kernelspec": {
   "display_name": "Python 3",
   "language": "python",
   "name": "python3"
  },
  "language_info": {
   "codemirror_mode": {
    "name": "ipython",
    "version": 3
   },
   "file_extension": ".py",
   "mimetype": "text/x-python",
   "name": "python",
   "nbconvert_exporter": "python",
   "pygments_lexer": "ipython3",
   "version": "3.10.4 (tags/v3.10.4:9d38120, Mar 23 2022, 23:13:41) [MSC v.1929 64 bit (AMD64)]"
  },
  "orig_nbformat": 4,
  "vscode": {
   "interpreter": {
    "hash": "57227d0e1e6fd139db46774f32d8a6998d06bb1f205932b0fd7e8f2aa638e8eb"
   }
  }
 },
 "nbformat": 4,
 "nbformat_minor": 2
}
