{
 "cells": [
  {
   "attachments": {},
   "cell_type": "markdown",
   "metadata": {},
   "source": [
    "1. Create a function that takes three integer arguments (a, b, c) and returns the amount of\n",
    "\n",
    "integers which are of equal value. Examples equal(3, 4, 3) ➞ 2 equal(1, 1, 1) ➞ 3 equal(3, 4, 1) ➞ 0 Notes Your function must return 0, 2 or 3."
   ]
  },
  {
   "cell_type": "code",
   "execution_count": 1,
   "metadata": {},
   "outputs": [
    {
     "data": {
      "text/plain": [
       "2"
      ]
     },
     "execution_count": 1,
     "metadata": {},
     "output_type": "execute_result"
    }
   ],
   "source": [
    "def equal(a,b,c):\n",
    "    num = 0\n",
    "    if a == b and a == c :\n",
    "        num = 3\n",
    "    elif a == b or a == c :\n",
    "        num = 2\n",
    "    else:\n",
    "        num = 0\n",
    "    return num\n",
    "equal(3, 4, 3)"
   ]
  },
  {
   "attachments": {},
   "cell_type": "markdown",
   "metadata": {},
   "source": [
    "2. Create a function that takes a string as input and capitalizes a letter if its ASCII code is even\n",
    "\n",
    "and returns its lower case version if its ASCII code is odd. Examples ascii_capitalize('to be or not to be!') ➞ 'To Be oR NoT To Be!' ascii_capitalize('THE LITTLE MERMAID') ➞ 'THe LiTTLe meRmaiD' ascii_capitalize('Oh what a beautiful morning.') ➞ 'oH wHaT a BeauTiFuL moRNiNg"
   ]
  },
  {
   "cell_type": "code",
   "execution_count": 2,
   "metadata": {},
   "outputs": [],
   "source": [
    "def ascii_capitalize(s):\n",
    "    s1 = []\n",
    "    for i in range(len(s)):\n",
    "        if ord(s[i]) % 2 == 0:\n",
    "            s1.append(s[i].upper())\n",
    "        else:\n",
    "            s1.append(s[i].lower())\n",
    "\n",
    "    return \"\".join((s1))"
   ]
  },
  {
   "cell_type": "code",
   "execution_count": 3,
   "metadata": {},
   "outputs": [
    {
     "data": {
      "text/plain": [
       "'To Be oR NoT To Be!'"
      ]
     },
     "execution_count": 3,
     "metadata": {},
     "output_type": "execute_result"
    }
   ],
   "source": [
    "ascii_capitalize('to be or not to be!')"
   ]
  },
  {
   "cell_type": "code",
   "execution_count": 4,
   "metadata": {},
   "outputs": [
    {
     "data": {
      "text/plain": [
       "'THe LiTTLe meRmaiD'"
      ]
     },
     "execution_count": 4,
     "metadata": {},
     "output_type": "execute_result"
    }
   ],
   "source": [
    "ascii_capitalize('THE LITTLE MERMAID')\n"
   ]
  },
  {
   "attachments": {},
   "cell_type": "markdown",
   "metadata": {},
   "source": [
    "3. Write a function that creates a dictionary with each (key, value) pair being the (lower case,\n",
    "\n",
    "upper case) versions of a letter, respectively. Examples mapping(['p', 's']) ➞ { 'p': 'P', 's': 'S' }\n",
    "\n",
    "mapping(['a', 'b', 'c']) ➞ { 'a': 'A', 'b': 'B', 'c': 'C' } mapping(['a', 'v', 'y', 'z']) ➞ { 'a': 'A', 'v': 'V', 'y': 'Y', 'z': 'Z' } Notes All of the letters in the input list will always be lowercase."
   ]
  },
  {
   "cell_type": "code",
   "execution_count": 5,
   "metadata": {},
   "outputs": [],
   "source": [
    "def mapping(lst):\n",
    "    return {v.lower():v.upper() for v in lst}"
   ]
  },
  {
   "cell_type": "code",
   "execution_count": 7,
   "metadata": {},
   "outputs": [
    {
     "data": {
      "text/plain": [
       "{'p': 'P', 's': 'S', 'k': 'K'}"
      ]
     },
     "execution_count": 7,
     "metadata": {},
     "output_type": "execute_result"
    }
   ],
   "source": [
    "mapping(['p', 's','k'])\n"
   ]
  },
  {
   "attachments": {},
   "cell_type": "markdown",
   "metadata": {},
   "source": [
    "4. Write a function, that replaces all vowels in a string with a specified vowel.\n",
    "\n",
    "Examples vow_replace('apples and bananas', 'u') ➞ 'upplus und bununus' vow_replace('cheese casserole', 'o') ➞ 'chooso cossorolo' vow_replace('stuffed jalapeno poppers', 'e') ➞ 'steffed jelepene peppers' Notes All words will be lowercase. Y is not considered a vowel."
   ]
  },
  {
   "cell_type": "code",
   "execution_count": 20,
   "metadata": {},
   "outputs": [],
   "source": [
    "def vow_replace(s,ch):\n",
    "    vowel ='AEIOUaeiuo'\n",
    "    s1 = []\n",
    "    for i in range(len(s)):\n",
    "        if s[i] in vowel:\n",
    "            s1.append(ch)\n",
    "        else:\n",
    "            s1.append(s[i])\n",
    "        \n",
    "\n",
    "    return ''.join((s1))"
   ]
  },
  {
   "cell_type": "code",
   "execution_count": 21,
   "metadata": {},
   "outputs": [
    {
     "data": {
      "text/plain": [
       "'upplus und bununus'"
      ]
     },
     "execution_count": 21,
     "metadata": {},
     "output_type": "execute_result"
    }
   ],
   "source": [
    "vow_replace('apples and bananas', 'u')"
   ]
  },
  {
   "attachments": {},
   "cell_type": "markdown",
   "metadata": {},
   "source": [
    "\n",
    "5. Write a function that converts a dictionary into a list of keys-values tuples.\n",
    "\n",
    "Examples dict_to_list({ 'D': 1, 'B': 2, 'C': 3 }) ➞ [('B', 2), ('C', 3), ('D', 1)] dict_to_list({ 'likes': 2, 'dislikes': 3, 'followers': 10 }) ➞ [('dislikes', 3), ('followers', 10), ('likes', 2)] Notes Return the elements in the list in alphabetical order."
   ]
  },
  {
   "cell_type": "code",
   "execution_count": 29,
   "metadata": {},
   "outputs": [],
   "source": [
    "def dicttolist(l):\n",
    "    return list((l.items()))"
   ]
  },
  {
   "cell_type": "code",
   "execution_count": 30,
   "metadata": {},
   "outputs": [
    {
     "data": {
      "text/plain": [
       "[('D', 1), ('B', 2), ('C', 3)]"
      ]
     },
     "execution_count": 30,
     "metadata": {},
     "output_type": "execute_result"
    }
   ],
   "source": [
    "dicttolist({\n",
    "    'D': 1,\n",
    "    'B': 2,\n",
    "    'C': 3\n",
    "    })"
   ]
  },
  {
   "cell_type": "code",
   "execution_count": 31,
   "metadata": {},
   "outputs": [
    {
     "data": {
      "text/plain": [
       "[('likes', 2), ('dislikes', 3), ('followers', 10)]"
      ]
     },
     "execution_count": 31,
     "metadata": {},
     "output_type": "execute_result"
    }
   ],
   "source": [
    "dicttolist({\n",
    "    'likes': 2,\n",
    "    'dislikes': 3,\n",
    "    'followers': 10\n",
    "    })"
   ]
  }
 ],
 "metadata": {
  "kernelspec": {
   "display_name": "Python 3",
   "language": "python",
   "name": "python3"
  },
  "language_info": {
   "codemirror_mode": {
    "name": "ipython",
    "version": 3
   },
   "file_extension": ".py",
   "mimetype": "text/x-python",
   "name": "python",
   "nbconvert_exporter": "python",
   "pygments_lexer": "ipython3",
   "version": "3.10.4 (tags/v3.10.4:9d38120, Mar 23 2022, 23:13:41) [MSC v.1929 64 bit (AMD64)]"
  },
  "orig_nbformat": 4,
  "vscode": {
   "interpreter": {
    "hash": "57227d0e1e6fd139db46774f32d8a6998d06bb1f205932b0fd7e8f2aa638e8eb"
   }
  }
 },
 "nbformat": 4,
 "nbformat_minor": 2
}
