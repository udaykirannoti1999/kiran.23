{
 "cells": [
  {
   "cell_type": "code",
   "execution_count": 1,
   "metadata": {},
   "outputs": [
    {
     "ename": "ValueError",
     "evalue": "invalid literal for int() with base 10: 'h'",
     "output_type": "error",
     "traceback": [
      "\u001b[1;31m---------------------------------------------------------------------------\u001b[0m",
      "\u001b[1;31mValueError\u001b[0m                                Traceback (most recent call last)",
      "\u001b[1;32md:\\py\\p.ipynb Cell 1\u001b[0m in \u001b[0;36m<cell line: 13>\u001b[1;34m()\u001b[0m\n\u001b[0;32m     <a href='vscode-notebook-cell:/d%3A/py/p.ipynb#W0sZmlsZQ%3D%3D?line=10'>11</a>\u001b[0m final \u001b[39m=\u001b[39m []\n\u001b[0;32m     <a href='vscode-notebook-cell:/d%3A/py/p.ipynb#W0sZmlsZQ%3D%3D?line=12'>13</a>\u001b[0m \u001b[39mfor\u001b[39;00m D \u001b[39min\u001b[39;00m values:\n\u001b[1;32m---> <a href='vscode-notebook-cell:/d%3A/py/p.ipynb#W0sZmlsZQ%3D%3D?line=13'>14</a>\u001b[0m     A \u001b[39m=\u001b[39m \u001b[39mround\u001b[39m(math\u001b[39m.\u001b[39msqrt(\u001b[39m2\u001b[39m \u001b[39m*\u001b[39m \u001b[39m50\u001b[39m \u001b[39m*\u001b[39m \u001b[39mint\u001b[39;49m(D) \u001b[39m/\u001b[39m \u001b[39m30\u001b[39m))\n\u001b[0;32m     <a href='vscode-notebook-cell:/d%3A/py/p.ipynb#W0sZmlsZQ%3D%3D?line=14'>15</a>\u001b[0m     final\u001b[39m.\u001b[39mappend(\u001b[39mstr\u001b[39m(A))\n\u001b[0;32m     <a href='vscode-notebook-cell:/d%3A/py/p.ipynb#W0sZmlsZQ%3D%3D?line=16'>17</a>\u001b[0m \u001b[39mprint\u001b[39m(\u001b[39m'\u001b[39m\u001b[39m,\u001b[39m\u001b[39m'\u001b[39m\u001b[39m.\u001b[39mjoin(final))\n",
      "\u001b[1;31mValueError\u001b[0m: invalid literal for int() with base 10: 'h'"
     ]
    }
   ],
   "source": [
    "#Write a program that calculates and prints the value according to the given formula: \n",
    "# Q = Square root of [(2 * C * D)/H] Following are the fixed values of C and H: C is 50.\n",
    "#  H is 30. D is the variable whose values should be input to your program in a comma-separated sequence.\n",
    "#  Example Let us assume the following comma separated input sequence is given to the program: 100,150,180 \n",
    "# The output of the program should be: 18,22,24\n",
    "import math\n",
    "\n",
    "values = input(\"Provide D in with comma separated: \")\n",
    "values = values.split(',')\n",
    "\n",
    "final = []\n",
    "\n",
    "for D in values:\n",
    "    A = round(math.sqrt(2 * 50 * int(D) / 30))\n",
    "    final.append(str(A))\n",
    "    \n",
    "print(','.join(final))"
   ]
  },
  {
   "cell_type": "code",
   "execution_count": 2,
   "metadata": {},
   "outputs": [
    {
     "name": "stdout",
     "output_type": "stream",
     "text": [
      "Not a Valid Password\n"
     ]
    }
   ],
   "source": [
    "#Q.A website requires the users to input username and password to register. Write a program to\n",
    "\n",
    "#check the validity of password input by users. Following are the criteria for checking the password:\n",
    "#At least 1 letter between [a-z]\n",
    "#At least 1 number between [0-9]\n",
    "#At least 1 letter between [A-Z]\n",
    "#At least 1 character from [$#@]\n",
    "#Minimum length of transaction password: 6\n",
    "#Maximum length of transaction password: 12\n",
    "import re\n",
    "password= input(\"Enter your password : \")\n",
    "x = True\n",
    "while x:  \n",
    "    if (len(password) < 6 or len(password) > 12):\n",
    "        break\n",
    "    elif not re.search(\"[a-z]\",password):\n",
    "        break\n",
    "    elif not re.search(\"[0-9]\",password):\n",
    "        break\n",
    "    elif not re.search(\"[A-Z]\",password):\n",
    "        break\n",
    "    elif not re.search(\"[$#@]\",password):\n",
    "        break\n",
    "    elif re.search(\"\\s\",password):\n",
    "        break\n",
    "    else:\n",
    "        print(\"Valid Password\")\n",
    "        x=False\n",
    "        break\n",
    "\n",
    "if x:\n",
    "    print(\"Not a Valid Password\")"
   ]
  },
  {
   "cell_type": "code",
   "execution_count": 11,
   "metadata": {},
   "outputs": [
    {
     "name": "stdout",
     "output_type": "stream",
     "text": [
      "the count of string:3 10\n"
     ]
    }
   ],
   "source": [
    "#Q.Write a program that accepts a sentence and calculate the number of letters and digits.\n",
    "\n",
    "#Suppose the following input is supplied to the program: hello world! 123 Then, the output should be: LETTERS 10 DIGITS 3\n",
    "n=input(\"enter your string\")\n",
    "di=le=0\n",
    "for i in n:\n",
    "    if i.isdigit():\n",
    "        di+=1\n",
    "    elif i.isalnum():\n",
    "        le+=1\n",
    "    else:\n",
    "        pass\n",
    "print(\"the count of string:{0} {1}\".format(di,le))"
   ]
  },
  {
   "cell_type": "code",
   "execution_count": 12,
   "metadata": {},
   "outputs": [
    {
     "name": "stdout",
     "output_type": "stream",
     "text": [
      "Enter the element :\n"
     ]
    },
    {
     "data": {
      "text/plain": [
       "[[0, 0, 0, 0, 0], [0, 1, 2, 3, 4], [0, 2, 4, 6, 8]]"
      ]
     },
     "execution_count": 12,
     "metadata": {},
     "output_type": "execute_result"
    }
   ],
   "source": [
    "#Q. Write a program which takes 2 digits, X,Y as input and generates a 2-dimensional array. The\n",
    "\n",
    "#element value in the i-th row and j-th column of the array should be i*j. Note: i=0,1.., X-1; j=0,1,¡Y-1. \n",
    "# Example Suppose the following inputs are given to the program: 3,5 \n",
    "# Then, the output of the program should be: [[0, 0, 0, 0, 0], [0, 1, 2, 3, 4], [0, 2, 4, 6, 8]]\n",
    "def ABC(n,m):\n",
    "    \n",
    "    A=[]             \n",
    "    print(\"Enter the element :\")\n",
    "    for i in range(n):\n",
    "        #store row\n",
    "        row =[]\n",
    "        for j in range(m):\n",
    "            row.append(i*j)\n",
    "        A.append(row)\n",
    "    return(A)\n",
    "\n",
    "x = int(input(\"Enter x : \"))\n",
    "y = int(input(\"enter y : \"))\n",
    "ABC(x,y)\n",
    "\n"
   ]
  },
  {
   "cell_type": "code",
   "execution_count": 8,
   "metadata": {},
   "outputs": [
    {
     "name": "stdout",
     "output_type": "stream",
     "text": [
      "bag,hello,without,world\n"
     ]
    }
   ],
   "source": [
    "#Q. Write a program that accepts a comma separated sequence of words as input and prints the\n",
    "\n",
    "#words in a comma-separated sequence after sorting them alphabetically. \n",
    "#Suppose the following input is supplied to the program: without,hello,bag,world Then, \n",
    "# the output should be: bag,hello,without,world\n",
    "words=[x for x in input('Enter comma seperated words ').split(',')]\n",
    "words.sort(reverse=False)    \n",
    "print(','.join(words))\n"
   ]
  },
  {
   "cell_type": "code",
   "execution_count": 9,
   "metadata": {},
   "outputs": [
    {
     "name": "stdout",
     "output_type": "stream",
     "text": [
      "bag hello without world\n"
     ]
    }
   ],
   "source": [
    "#Q. Write a program that accepts a sequence of whitespace separated words as input and prints\n",
    "\n",
    "#the words after removing all duplicate words and sorting them alphanumerically. \n",
    "# Suppose the following input is supplied to the program: hello world and practice \n",
    "# makes perfect and hello world again Then, the output should be: again and \n",
    "# hello makes perfect practice world\n",
    "words=[x for x in input('Enter comma seperated words ').split(',')]\n",
    "print(' '.join(sorted(list(set(words)))))\n",
    "     "
   ]
  }
 ],
 "metadata": {
  "kernelspec": {
   "display_name": "Python 3",
   "language": "python",
   "name": "python3"
  },
  "language_info": {
   "codemirror_mode": {
    "name": "ipython",
    "version": 3
   },
   "file_extension": ".py",
   "mimetype": "text/x-python",
   "name": "python",
   "nbconvert_exporter": "python",
   "pygments_lexer": "ipython3",
   "version": "3.10.4"
  },
  "orig_nbformat": 4,
  "vscode": {
   "interpreter": {
    "hash": "57227d0e1e6fd139db46774f32d8a6998d06bb1f205932b0fd7e8f2aa638e8eb"
   }
  }
 },
 "nbformat": 4,
 "nbformat_minor": 2
}
